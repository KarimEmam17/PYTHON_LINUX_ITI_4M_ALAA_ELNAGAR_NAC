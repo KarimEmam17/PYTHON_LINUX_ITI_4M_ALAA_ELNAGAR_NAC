{
 "cells": [
  {
   "cell_type": "code",
   "execution_count": 8,
   "metadata": {},
   "outputs": [
    {
     "ename": "TypeError",
     "evalue": "can only join an iterable",
     "output_type": "error",
     "traceback": [
      "\u001b[1;31m---------------------------------------------------------------------------\u001b[0m",
      "\u001b[1;31mTypeError\u001b[0m                                 Traceback (most recent call last)",
      "Cell \u001b[1;32mIn [8], line 33\u001b[0m\n\u001b[0;32m     31\u001b[0m data_list\u001b[39m.\u001b[39minsert([\u001b[39m0\u001b[39m][\u001b[39m-\u001b[39m\u001b[39m1\u001b[39m],pola_iti_shop_dict[\u001b[39m\"\u001b[39m\u001b[39msmall\u001b[39m\u001b[39m\"\u001b[39m] )\n\u001b[0;32m     32\u001b[0m The_File \u001b[39m=\u001b[39m \u001b[39mopen\u001b[39m(\u001b[39m\"\u001b[39m\u001b[39mData_base_Pola_iti_shop1.txt\u001b[39m\u001b[39m\"\u001b[39m,\u001b[39m\"\u001b[39m\u001b[39mw\u001b[39m\u001b[39m\"\u001b[39m)\n\u001b[1;32m---> 33\u001b[0m The_File\u001b[39m.\u001b[39mwrite(\u001b[39mstr\u001b[39m(\u001b[39m\"\u001b[39;49m\u001b[39m\"\u001b[39;49m\u001b[39m.\u001b[39;49mjoin(\u001b[39m\"\u001b[39;49m\u001b[39m \u001b[39;49m\u001b[39m\"\u001b[39;49m\u001b[39m.\u001b[39;49mjoin(x) \u001b[39mfor\u001b[39;49;00m x \u001b[39min\u001b[39;49;00m data_list)))\n\u001b[0;32m     34\u001b[0m The_File\u001b[39m.\u001b[39mclose()\n\u001b[0;32m     35\u001b[0m data_list[\u001b[39m0\u001b[39m][\u001b[39m-\u001b[39m\u001b[39m1\u001b[39m]\u001b[39m=\u001b[39mpola_iti_shop_dict[\u001b[39m\"\u001b[39m\u001b[39msmall\u001b[39m\u001b[39m\"\u001b[39m] \n",
      "Cell \u001b[1;32mIn [8], line 33\u001b[0m, in \u001b[0;36m<genexpr>\u001b[1;34m(.0)\u001b[0m\n\u001b[0;32m     31\u001b[0m data_list\u001b[39m.\u001b[39minsert([\u001b[39m0\u001b[39m][\u001b[39m-\u001b[39m\u001b[39m1\u001b[39m],pola_iti_shop_dict[\u001b[39m\"\u001b[39m\u001b[39msmall\u001b[39m\u001b[39m\"\u001b[39m] )\n\u001b[0;32m     32\u001b[0m The_File \u001b[39m=\u001b[39m \u001b[39mopen\u001b[39m(\u001b[39m\"\u001b[39m\u001b[39mData_base_Pola_iti_shop1.txt\u001b[39m\u001b[39m\"\u001b[39m,\u001b[39m\"\u001b[39m\u001b[39mw\u001b[39m\u001b[39m\"\u001b[39m)\n\u001b[1;32m---> 33\u001b[0m The_File\u001b[39m.\u001b[39mwrite(\u001b[39mstr\u001b[39m(\u001b[39m\"\u001b[39m\u001b[39m\"\u001b[39m\u001b[39m.\u001b[39mjoin(\u001b[39m\"\u001b[39;49m\u001b[39m \u001b[39;49m\u001b[39m\"\u001b[39;49m\u001b[39m.\u001b[39;49mjoin(x) \u001b[39mfor\u001b[39;00m x \u001b[39min\u001b[39;00m data_list)))\n\u001b[0;32m     34\u001b[0m The_File\u001b[39m.\u001b[39mclose()\n\u001b[0;32m     35\u001b[0m data_list[\u001b[39m0\u001b[39m][\u001b[39m-\u001b[39m\u001b[39m1\u001b[39m]\u001b[39m=\u001b[39mpola_iti_shop_dict[\u001b[39m\"\u001b[39m\u001b[39msmall\u001b[39m\u001b[39m\"\u001b[39m] \n",
      "\u001b[1;31mTypeError\u001b[0m: can only join an iterable"
     ]
    }
   ],
   "source": [
    "The_File=open(\"Data_base_Pola_iti_shop.txt\",\"r+\")\n",
    "small_sold_item=int(The_File.readline().split(\" \")[-1])\n",
    "meduim_sold_item=int(The_File.readline().split(\" \")[-1])\n",
    "large_sold_item=int(The_File.readline().split(\" \")[-1])\n",
    "small_cost_item=int(The_File.readline().split(\" \")[-1])\n",
    "meduim_cost_item=int(The_File.readline().split(\" \")[-1])\n",
    "large_cost_item=int(The_File.readline().split(\" \")[-1])\n",
    "total_sold_item=int(The_File.readline().split(\" \")[-1])\n",
    "The_File.close()\n",
    "\n",
    "The_File = open(\"Data_base_Pola_iti_shop.txt\",\"r\")\n",
    "data_list = list(map(lambda x: x.split(\" \"), The_File.readlines())) \n",
    "The_File.close()\n",
    "\n",
    "pola_iti_shop_dict = { \"small\":40,\n",
    "   \"medium\":30 ,\n",
    "   \"large\":60, }\n",
    "\n",
    "pola_iti_shop_dict_cost = { \"small\":2,\n",
    "   \"medium\":1 ,\n",
    "   \"large\":1,\n",
    "   \"total\":0, }\n",
    "\n",
    "pola_iti_shop_dict[\"small\"]=small_sold_item\n",
    "pola_iti_shop_dict[\"medium\"]=meduim_sold_item\n",
    "pola_iti_shop_dict[\"large\"]=large_sold_item\n",
    "pola_iti_shop_dict_cost[\"small\"]=small_cost_item\n",
    "pola_iti_shop_dict_cost[\"medium\"]=meduim_cost_item\n",
    "pola_iti_shop_dict_cost[\"large\"]=large_cost_item\n",
    "pola_iti_shop_dict_cost[\"total\"]=total_sold_item\n",
    "\n",
    "The_File = open(\"Data_base_Pola_iti_shop1.txt\",\"w\")\n",
    "The_File.write(str(\"\".join(\" \".join(x) for x in data_list)))\n",
    "The_File.close()\n",
    "data_list[0][-1]=pola_iti_shop_dict[\"small\"] \n",
    "data_list[1][-1]=pola_iti_shop_dict[\"medium\"] \n",
    "data_list[2][-1]=pola_iti_shop_dict[\"large\"] \n",
    "data_list[3][-1]=pola_iti_shop_dict_cost[\"small\"] \n",
    "data_list[4][-1]=pola_iti_shop_dict_cost[\"medium\"]  \n",
    "data_list[5][-1]=pola_iti_shop_dict_cost[\"large\"]    \n",
    "data_list[6][-1]=pola_iti_shop_dict_cost[\"total\"]"
   ]
  }
 ],
 "metadata": {
  "kernelspec": {
   "display_name": "Python 3",
   "language": "python",
   "name": "python3"
  },
  "language_info": {
   "codemirror_mode": {
    "name": "ipython",
    "version": 3
   },
   "file_extension": ".py",
   "mimetype": "text/x-python",
   "name": "python",
   "nbconvert_exporter": "python",
   "pygments_lexer": "ipython3",
   "version": "3.10.8"
  },
  "orig_nbformat": 4,
  "vscode": {
   "interpreter": {
    "hash": "195bd510e15910a56e7c23d3b7b7634befef240da2261c6b018d800ce3cee9ad"
   }
  }
 },
 "nbformat": 4,
 "nbformat_minor": 2
}
