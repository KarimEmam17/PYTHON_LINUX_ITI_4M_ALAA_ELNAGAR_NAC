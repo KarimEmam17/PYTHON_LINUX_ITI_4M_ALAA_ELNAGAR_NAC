{
 "cells": [
  {
   "cell_type": "code",
   "execution_count": null,
   "metadata": {},
   "outputs": [],
   "source": [
    "# Import all methods of the module  \n",
    "from tkinter import *\n",
    "\n",
    "# construct main window through calling TK()\n",
    "# window_1 = tk.Tk() for other python versions  \n",
    "window_1 = Tk() \n",
    "\n",
    "# adding title to the window \n",
    "\n",
    "window_1.title(\"Hello From Tkinter \")\n",
    "\n",
    "# controlling window geometry in pixles \n",
    "window_1.geometry('100x200')   # width X heoght \n",
    "\n",
    "# Adding lable to a specific window with a specific name \n",
    "\n",
    "label_1  =Label(window_1 , text = \"Label1\")\n",
    "\n",
    "# using geomertry function to set the lable in a specific place [BOTTOM , LEFT , RIGHT] \n",
    "\n",
    "label_1.pack(side = TOP)\n",
    "\n",
    "# Call the main loop which is used when the application is ready to run to keep the code displaying \n",
    "window_1.mainloop()"
   ]
  }
 ],
 "metadata": {
  "kernelspec": {
   "display_name": "Python 3",
   "language": "python",
   "name": "python3"
  },
  "language_info": {
   "name": "python",
   "version": "3.10.8 (tags/v3.10.8:aaaf517, Oct 11 2022, 16:50:30) [MSC v.1933 64 bit (AMD64)]"
  },
  "orig_nbformat": 4,
  "vscode": {
   "interpreter": {
    "hash": "195bd510e15910a56e7c23d3b7b7634befef240da2261c6b018d800ce3cee9ad"
   }
  }
 },
 "nbformat": 4,
 "nbformat_minor": 2
}
